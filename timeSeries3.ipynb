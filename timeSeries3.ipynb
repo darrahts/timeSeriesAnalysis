{
 "cells": [
  {
   "cell_type": "markdown",
   "metadata": {},
   "source": [
    "### Multivariate Analysis"
   ]
  },
  {
   "cell_type": "code",
   "execution_count": 1,
   "metadata": {},
   "outputs": [],
   "source": [
    "import pandas as pd\n",
    "from fcns import *"
   ]
  },
  {
   "cell_type": "code",
   "execution_count": 2,
   "metadata": {},
   "outputs": [
    {
     "name": "stderr",
     "output_type": "stream",
     "text": [
      "C:\\Users\\darrahts\\Anaconda3\\envs\\tfgpu\\lib\\site-packages\\ipykernel_launcher.py:3: FutureWarning: Creating a DatetimeIndex by passing range endpoints is deprecated.  Use `pandas.date_range` instead.\n",
      "  This is separate from the ipykernel package so we can avoid doing imports until\n"
     ]
    },
    {
     "data": {
      "text/html": [
       "<div>\n",
       "<style scoped>\n",
       "    .dataframe tbody tr th:only-of-type {\n",
       "        vertical-align: middle;\n",
       "    }\n",
       "\n",
       "    .dataframe tbody tr th {\n",
       "        vertical-align: top;\n",
       "    }\n",
       "\n",
       "    .dataframe thead th {\n",
       "        text-align: right;\n",
       "    }\n",
       "</style>\n",
       "<table border=\"1\" class=\"dataframe\">\n",
       "  <thead>\n",
       "    <tr style=\"text-align: right;\">\n",
       "      <th></th>\n",
       "      <th>DAX</th>\n",
       "      <th>SMI</th>\n",
       "      <th>CAC</th>\n",
       "      <th>FTSE</th>\n",
       "    </tr>\n",
       "  </thead>\n",
       "  <tbody>\n",
       "    <tr>\n",
       "      <td>1991-01-01</td>\n",
       "      <td>1628.75</td>\n",
       "      <td>1678.1</td>\n",
       "      <td>1772.8</td>\n",
       "      <td>2443.6</td>\n",
       "    </tr>\n",
       "    <tr>\n",
       "      <td>1991-01-02</td>\n",
       "      <td>1613.63</td>\n",
       "      <td>1688.5</td>\n",
       "      <td>1750.5</td>\n",
       "      <td>2460.2</td>\n",
       "    </tr>\n",
       "    <tr>\n",
       "      <td>1991-01-03</td>\n",
       "      <td>1606.51</td>\n",
       "      <td>1678.6</td>\n",
       "      <td>1718.0</td>\n",
       "      <td>2448.2</td>\n",
       "    </tr>\n",
       "    <tr>\n",
       "      <td>1991-01-04</td>\n",
       "      <td>1621.04</td>\n",
       "      <td>1684.1</td>\n",
       "      <td>1708.1</td>\n",
       "      <td>2470.4</td>\n",
       "    </tr>\n",
       "    <tr>\n",
       "      <td>1991-01-07</td>\n",
       "      <td>1618.16</td>\n",
       "      <td>1686.6</td>\n",
       "      <td>1723.1</td>\n",
       "      <td>2484.7</td>\n",
       "    </tr>\n",
       "  </tbody>\n",
       "</table>\n",
       "</div>"
      ],
      "text/plain": [
       "                DAX     SMI     CAC    FTSE\n",
       "1991-01-01  1628.75  1678.1  1772.8  2443.6\n",
       "1991-01-02  1613.63  1688.5  1750.5  2460.2\n",
       "1991-01-03  1606.51  1678.6  1718.0  2448.2\n",
       "1991-01-04  1621.04  1684.1  1708.1  2470.4\n",
       "1991-01-07  1618.16  1686.6  1723.1  2484.7"
      ]
     },
     "execution_count": 2,
     "metadata": {},
     "output_type": "execute_result"
    }
   ],
   "source": [
    "eustocks_df = pd.read_csv('datasets/eustocks.csv')\n",
    "# freq = 'B' means 5 day week, no holidays\n",
    "eustocks_df = pd.DataFrame(eustocks_df.values, columns=['0', 'DAX', 'SMI', 'CAC', 'FTSE'], index=pd.DatetimeIndex(start='1991-01-01', periods=1860, freq='B')).drop(columns=['0'])\n",
    "#print(list(eustocks_df.columns))\n",
    "eustocks_df.head()\n"
   ]
  },
  {
   "cell_type": "code",
   "execution_count": 3,
   "metadata": {},
   "outputs": [
    {
     "name": "stdout",
     "output_type": "stream",
     "text": [
      "statistic                  2.295811\n",
      "p-value                    0.998953\n",
      "#lags                     24.000000\n",
      "#obs                    1835.000000\n",
      "critical value (1%)       -3.433919\n",
      "critical value (5%)       -2.863116\n",
      "critical value (10%)      -2.567609\n",
      "dtype: float64\n",
      "statistic                  2.235032\n",
      "p-value                    0.998910\n",
      "#lags                     22.000000\n",
      "#obs                    1837.000000\n",
      "critical value (1%)       -3.433915\n",
      "critical value (5%)       -2.863115\n",
      "critical value (10%)      -2.567608\n",
      "dtype: float64\n",
      "statistic                  1.286413\n",
      "p-value                    0.996532\n",
      "#lags                     17.000000\n",
      "#obs                    1842.000000\n",
      "critical value (1%)       -3.433905\n",
      "critical value (5%)       -2.863110\n",
      "critical value (10%)      -2.567606\n",
      "dtype: float64\n",
      "statistic                  0.106116\n",
      "p-value                    0.966476\n",
      "#lags                     13.000000\n",
      "#obs                    1846.000000\n",
      "critical value (1%)       -3.433897\n",
      "critical value (5%)       -2.863107\n",
      "critical value (10%)      -2.567604\n",
      "dtype: float64\n"
     ]
    },
    {
     "data": {
      "text/plain": [
       "DAX     0\n",
       "SMI     0\n",
       "CAC     0\n",
       "FTSE    0\n",
       "dtype: int64"
      ]
     },
     "execution_count": 3,
     "metadata": {},
     "output_type": "execute_result"
    }
   ],
   "source": [
    "import functools\n",
    "res = eustocks_df.apply(functools.partial(stationarity_test))\n",
    "res"
   ]
  },
  {
   "cell_type": "markdown",
   "metadata": {},
   "source": [
    "### since non significant, difference the columns"
   ]
  },
  {
   "cell_type": "code",
   "execution_count": 4,
   "metadata": {},
   "outputs": [
    {
     "name": "stdout",
     "output_type": "stream",
     "text": [
      "statistic              -8.293747e+00\n",
      "p-value                 4.193799e-13\n",
      "#lags                   1.900000e+01\n",
      "#obs                    1.839000e+03\n",
      "critical value (1%)    -3.433911e+00\n",
      "critical value (5%)    -2.863113e+00\n",
      "critical value (10%)   -2.567607e+00\n",
      "dtype: float64\n",
      "statistic              -8.543303e+00\n",
      "p-value                 9.652044e-14\n",
      "#lags                   1.900000e+01\n",
      "#obs                    1.839000e+03\n",
      "critical value (1%)    -3.433911e+00\n",
      "critical value (5%)    -2.863113e+00\n",
      "critical value (10%)   -2.567607e+00\n",
      "dtype: float64\n",
      "statistic              -1.015705e+01\n",
      "p-value                 7.680823e-18\n",
      "#lags                   1.600000e+01\n",
      "#obs                    1.842000e+03\n",
      "critical value (1%)    -3.433905e+00\n",
      "critical value (5%)    -2.863110e+00\n",
      "critical value (10%)   -2.567606e+00\n",
      "dtype: float64\n",
      "statistic              -1.079549e+01\n",
      "p-value                 2.080690e-19\n",
      "#lags                   1.200000e+01\n",
      "#obs                    1.846000e+03\n",
      "critical value (1%)    -3.433897e+00\n",
      "critical value (5%)    -2.863107e+00\n",
      "critical value (10%)   -2.567604e+00\n",
      "dtype: float64\n"
     ]
    },
    {
     "data": {
      "text/plain": [
       "DAX     1\n",
       "SMI     1\n",
       "CAC     1\n",
       "FTSE    1\n",
       "dtype: int64"
      ]
     },
     "execution_count": 4,
     "metadata": {},
     "output_type": "execute_result"
    }
   ],
   "source": [
    "eustocks_df = eustocks_df.diff().dropna()\n",
    "eustocks_df.head()\n",
    "res = eustocks_df.apply(functools.partial(stationarity_test))\n",
    "res"
   ]
  },
  {
   "cell_type": "code",
   "execution_count": null,
   "metadata": {},
   "outputs": [],
   "source": []
  },
  {
   "cell_type": "code",
   "execution_count": null,
   "metadata": {},
   "outputs": [],
   "source": []
  },
  {
   "cell_type": "code",
   "execution_count": null,
   "metadata": {},
   "outputs": [],
   "source": []
  },
  {
   "cell_type": "code",
   "execution_count": null,
   "metadata": {},
   "outputs": [],
   "source": []
  },
  {
   "cell_type": "code",
   "execution_count": null,
   "metadata": {},
   "outputs": [],
   "source": []
  }
 ],
 "metadata": {
  "kernelspec": {
   "display_name": "tfgpu",
   "language": "python",
   "name": "tfgpu"
  },
  "language_info": {
   "codemirror_mode": {
    "name": "ipython",
    "version": 3
   },
   "file_extension": ".py",
   "mimetype": "text/x-python",
   "name": "python",
   "nbconvert_exporter": "python",
   "pygments_lexer": "ipython3",
   "version": "3.7.4"
  }
 },
 "nbformat": 4,
 "nbformat_minor": 4
}
